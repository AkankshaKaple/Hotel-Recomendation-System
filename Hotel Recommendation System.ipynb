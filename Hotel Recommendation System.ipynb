{
 "cells": [
  {
   "cell_type": "markdown",
   "metadata": {},
   "source": [
    "# Hotel Recommendation System"
   ]
  },
  {
   "cell_type": "code",
   "execution_count": null,
   "metadata": {
    "application/vnd.databricks.v1+cell": {
     "inputWidgets": {},
     "nuid": "a5720c60-cf9d-4f1d-ae3a-bbecca956a0f",
     "showTitle": false,
     "title": ""
    }
   },
   "outputs": [],
   "source": [
    "def get_shape(my_df):\n",
    "  row_number = my_df.count()\n",
    "  column_number = len(my_df.dtypes)\n",
    "  return (row_number, column_number)"
   ]
  },
  {
   "cell_type": "code",
   "execution_count": null,
   "metadata": {
    "application/vnd.databricks.v1+cell": {
     "inputWidgets": {},
     "nuid": "eb54ec8a-e907-4878-9aa5-374c8e8340db",
     "showTitle": false,
     "title": ""
    }
   },
   "outputs": [],
   "source": [
    "destinations_file = \"/mnt/hoteldatamount/destinations.csv\"\n",
    "train_file = \"/mnt/hoteldatamount/train.csv\"\n",
    "test_file = \"/mnt/hoteldatamount/test.csv\"\n",
    "\n",
    "destinations = spark.read.option(\"header\",True).csv(destinations_file)\n",
    "train = spark.read.option(\"header\",True).csv(train_file)\n",
    "test = spark.read.option(\"header\",True).csv(test_file)"
   ]
  },
  {
   "cell_type": "code",
   "execution_count": null,
   "metadata": {},
   "outputs": [],
   "source": [
    "train.printSchema()"
   ]
  },
  {
   "cell_type": "code",
   "execution_count": null,
   "metadata": {
    "application/vnd.databricks.v1+cell": {
     "inputWidgets": {},
     "nuid": "b87c01a2-ece8-4c76-9912-1536e3da8bf7",
     "showTitle": false,
     "title": ""
    }
   },
   "outputs": [],
   "source": [
    "train = train.na.drop() "
   ]
  },
  {
   "cell_type": "code",
   "execution_count": null,
   "metadata": {
    "application/vnd.databricks.v1+cell": {
     "inputWidgets": {},
     "nuid": "ed17fd2d-b4d7-4b11-9b0b-575666b988cb",
     "showTitle": false,
     "title": ""
    }
   },
   "outputs": [],
   "source": [
    "datetime = ['date_time', 'srch_ci', 'srch_co']"
   ]
  },
  {
   "cell_type": "code",
   "execution_count": null,
   "metadata": {
    "application/vnd.databricks.v1+cell": {
     "inputWidgets": {},
     "nuid": "6a412548-7665-4c9f-a363-cfc92337c1e7",
     "showTitle": false,
     "title": ""
    }
   },
   "outputs": [],
   "source": [
    "from pyspark.sql.types import DateType, IntegerType, DatetimeConverter\n",
    "from pyspark.sql.functions import *\n",
    "\n",
    "train = train.withColumn(\"month_date_time\", month(train.date_time)).withColumn(\"year_date_time\", year(train.date_time)).withColumn(\"day_date_time\", dayofmonth(train.date_time)).withColumn(\"minute_date_time\", minute(train.date_time)).withColumn(\"hour_date_time\", hour(train.date_time)).withColumn(\"second_date_time\", second(train.date_time))\n",
    "\n",
    "train = train.withColumn(\"month_srch_ci\", month(train.srch_ci)).withColumn(\"year_srch_ci\", year(train.srch_ci)).withColumn(\"day_srch_ci\", dayofmonth(train.srch_ci))\n",
    "\n",
    "train = train.withColumn(\"month_srch_co\", month(train.srch_co)).withColumn(\"year_srch_co\", year(train.srch_co)).withColumn(\"day_srch_co\", dayofmonth(train.srch_co))\n",
    "\n",
    "\n",
    "for col in train.dtypes:\n",
    "    if col[0] not in datetime:\n",
    "        train = train.withColumn(col[0], train[col[0]].cast(IntegerType()))\n",
    "        \n",
    "train = train.drop(*datetime)"
   ]
  },
  {
   "cell_type": "code",
   "execution_count": null,
   "metadata": {
    "application/vnd.databricks.v1+cell": {
     "inputWidgets": {},
     "nuid": "9e814b63-6d62-4dca-a232-11d82e01edde",
     "showTitle": false,
     "title": ""
    }
   },
   "outputs": [],
   "source": [
    "features = [i[0] for i in train.dtypes if i[0] != 'hotel_cluster']\n",
    "features"
   ]
  },
  {
   "cell_type": "code",
   "execution_count": null,
   "metadata": {
    "application/vnd.databricks.v1+cell": {
     "inputWidgets": {},
     "nuid": "cdb0671f-bb8c-465b-8f58-940f73c0a022",
     "showTitle": false,
     "title": ""
    }
   },
   "outputs": [],
   "source": [
    "from pyspark.ml.linalg import Vectors\n",
    "from pyspark.ml.feature import VectorAssembler\n",
    "# transformer\n",
    "vector_assembler = VectorAssembler(inputCols=features,outputCol=\"features\")\n",
    "df_temp = vector_assembler.transform(train)\n",
    "# drop the original data features column\n",
    "train = df_temp.drop('site_name',\n",
    " 'posa_continent',\n",
    " 'user_location_country',\n",
    " 'user_location_region',\n",
    " 'user_location_city',\n",
    " 'orig_destination_distance',\n",
    " 'user_id',\n",
    " 'is_mobile',\n",
    " 'is_package',\n",
    " 'channel',\n",
    " 'srch_adults_cnt',\n",
    " 'srch_children_cnt',\n",
    " 'srch_rm_cnt',\n",
    " 'srch_destination_id',\n",
    " 'srch_destination_type_id',\n",
    " 'is_booking',\n",
    " 'cnt',\n",
    " 'hotel_continent',\n",
    " 'hotel_country',\n",
    " 'hotel_market',\n",
    " 'month_date_time',\n",
    " 'year_date_time',\n",
    " 'day_date_time',\n",
    " 'minute_date_time',\n",
    " 'hour_date_time',\n",
    " 'second_date_time',\n",
    " 'month_srch_ci',\n",
    " 'year_srch_ci',\n",
    " 'day_srch_ci',\n",
    " 'month_srch_co',\n",
    " 'year_srch_co',\n",
    " 'day_srch_co')\n",
    "from pyspark.ml.feature import StringIndexer\n",
    "# estimator\n",
    "l_indexer = StringIndexer(inputCol=\"hotel_cluster\", outputCol=\"labelIndex\")\n",
    "train = l_indexer.fit(train).transform(train)\n",
    "# data splitting\n",
    "(training,testing) = train.randomSplit([0.7,0.3])"
   ]
  },
  {
   "cell_type": "markdown",
   "metadata": {},
   "source": [
    "## Decision Tree Classifier"
   ]
  },
  {
   "cell_type": "code",
   "execution_count": null,
   "metadata": {
    "application/vnd.databricks.v1+cell": {
     "inputWidgets": {},
     "nuid": "d97d2a64-3899-4ad6-8b4f-f8386980b689",
     "showTitle": false,
     "title": ""
    }
   },
   "outputs": [],
   "source": [
    "from pyspark.ml.classification import DecisionTreeClassifier\n",
    "# train our model using training data\n",
    "dt = DecisionTreeClassifier(labelCol=\"labelIndex\", featuresCol=\"features\")\n",
    "model = dt.fit(training)\n",
    "predictions = model.transform(testing)\n",
    "predictions.select(\"prediction\", \"labelIndex\").show(5)\n",
    "from pyspark.ml.evaluation import MulticlassClassificationEvaluator\n",
    "evaluator = MulticlassClassificationEvaluator(labelCol=\"labelIndex\", predictionCol=\"prediction\",metricName=\"accuracy\")\n",
    "accuracy = evaluator.evaluate(predictions)\n",
    "print(\"Test Error = %g \" % (1.0 - accuracy))\n",
    "print(\"Accuracy = %g \" % accuracy * 100)"
   ]
  },
  {
   "cell_type": "code",
   "execution_count": null,
   "metadata": {
    "application/vnd.databricks.v1+cell": {
     "inputWidgets": {},
     "nuid": "c76ac073-6c02-45c6-974f-d47c3e9510fd",
     "showTitle": false,
     "title": ""
    }
   },
   "outputs": [],
   "source": [
    "training.display(2)"
   ]
  },
  {
   "cell_type": "markdown",
   "metadata": {},
   "source": [
    "## Random Forest Classifier"
   ]
  },
  {
   "cell_type": "code",
   "execution_count": null,
   "metadata": {
    "application/vnd.databricks.v1+cell": {
     "inputWidgets": {},
     "nuid": "e34342b6-432f-4491-8855-c2434ddebf20",
     "showTitle": false,
     "title": ""
    }
   },
   "outputs": [],
   "source": [
    "from pyspark.ml.classification import RandomForestClassifier\n",
    "# train our model using training data\n",
    "rf = RandomForestClassifier(labelCol=\"labelIndex\",featuresCol=\"features\", numTrees=10)\n",
    "model = rf.fit(training)\n",
    "# test our model and make predictions using testing data\n",
    "predictions = model.transform(testing)\n",
    "predictions.select(\"prediction\", \"labelIndex\").show(5)\n",
    "# evaluate the performance of the classifier\n",
    "evaluator = MulticlassClassificationEvaluator(labelCol=\"labelIndex\",predictionCol=\"prediction\", metricName=\"accuracy\")\n",
    "accuracy = evaluator.evaluate(predictions)\n",
    "print(\"Test Error = %g\" % (1.0 - accuracy))\n",
    "print(\"Accuracy = %g \" % accuracy)"
   ]
  }
 ],
 "metadata": {
  "application/vnd.databricks.v1+notebook": {
   "dashboards": [],
   "language": "python",
   "notebookName": "Hotel Recommendation System",
   "notebookOrigID": 1616011096185010,
   "widgets": {}
  },
  "kernelspec": {
   "display_name": "Python 3",
   "language": "python",
   "name": "python3"
  },
  "language_info": {
   "codemirror_mode": {
    "name": "ipython",
    "version": 3
   },
   "file_extension": ".py",
   "mimetype": "text/x-python",
   "name": "python",
   "nbconvert_exporter": "python",
   "pygments_lexer": "ipython3",
   "version": "3.8.5"
  }
 },
 "nbformat": 4,
 "nbformat_minor": 4
}
